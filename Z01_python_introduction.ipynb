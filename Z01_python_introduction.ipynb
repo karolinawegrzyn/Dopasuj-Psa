{
  "cells": [
    {
      "cell_type": "markdown",
      "metadata": {
        "id": "yUv5idUz7R5M"
      },
      "source": [
        "# Podstawowe operatory\n",
        "\n",
        " * \\+ – dodawanie: 4 + 7.5 daje 11.5;\n",
        " * \\- – odejmowanie: 30 - 24 daje 6;\n",
        " * \\* – mnożenie: 2 * 3 daje 6;\n",
        " * \\*\\* – potęgowanie: 3 ** 4 daje 81;\n",
        " * / – dzielenie: 4 / 3 daje 1;\n",
        " * // – dzielenie całkowite: 4 // 3.0 daje 1;\n",
        " * % – dzielenie modulo: 8 % 3 daje 2. "
      ]
    },
    {
      "cell_type": "markdown",
      "metadata": {
        "id": "IqjdIGkn7R5S"
      },
      "source": [
        "# Operatory porównania:\n",
        "\n",
        " * < – mniejsze,\n",
        " * \\> – większe,\n",
        " * <= – mniejsze lub równe,\n",
        " * == – równe,\n",
        " * != – różne. "
      ]
    },
    {
      "cell_type": "markdown",
      "metadata": {
        "id": "AapLBbns7R5V"
      },
      "source": [
        "# 1. Warunki\n",
        "Python używa zmiennych logicznych w celu oceny warunków. \n",
        "Wartości logiczne prawda (True) i fałsz (False) są zwracane, gdy wyrażenie jest porównywane i oceniane. \n",
        "\n",
        "Na przykład:"
      ]
    },
    {
      "cell_type": "code",
      "execution_count": null,
      "metadata": {
        "id": "CTVx4Vm67R5X",
        "outputId": "53f9aea5-ac95-456b-98e4-6860e155888f"
      },
      "outputs": [
        {
          "name": "stdout",
          "output_type": "stream",
          "text": [
            "True\n",
            "False\n",
            "True\n"
          ]
        }
      ],
      "source": [
        "x = 2\n",
        "print(x == 2)\n",
        "print(x == 3)\n",
        "print(x < 3)"
      ]
    },
    {
      "cell_type": "markdown",
      "metadata": {
        "id": "V9afQRP27R5Z"
      },
      "source": [
        "# 1.1 Instrukcje Warunkowe\n",
        "Aby uzależnić wykonanie instrukcji od rezultatu porównania, używamy instrukcji warunkowej"
      ]
    },
    {
      "cell_type": "code",
      "execution_count": null,
      "metadata": {
        "id": "Hz7BJvSa7R5b",
        "outputId": "b00f8eb7-c7e5-474b-857a-4e5a12897f82"
      },
      "outputs": [
        {
          "name": "stdout",
          "output_type": "stream",
          "text": [
            "OK\n"
          ]
        }
      ],
      "source": [
        "x=2\n",
        "\n",
        "if x==2: \n",
        "    print(\"OK\")"
      ]
    },
    {
      "cell_type": "markdown",
      "metadata": {
        "id": "Bo6D7SSB7R5c"
      },
      "source": [
        "Przykład bardziej skomplikowany:"
      ]
    },
    {
      "cell_type": "code",
      "execution_count": null,
      "metadata": {
        "id": "J7fC1Tpb7R5d",
        "outputId": "c9f8f68f-4b8a-4988-be8a-febc856b523e"
      },
      "outputs": [
        {
          "name": "stdout",
          "output_type": "stream",
          "text": [
            "2\n"
          ]
        }
      ],
      "source": [
        "a = 2\n",
        "b = 4\n",
        "if a > b:\n",
        "    print(b)\n",
        "else:\n",
        "    print(a)"
      ]
    },
    {
      "cell_type": "markdown",
      "metadata": {
        "id": "ZCzdDIqI7R5e"
      },
      "source": [
        "W powyższym przykładzie użyliśmy pełnej instrukcji warunkowej <b>IF/ELSE</b>. Istnieje jeszcze bardziej bogatsza instrukcja warunkowa tzw. instrukcja wyboru wielokrotnego <b>IF/ELIF/ELSE</b>:"
      ]
    },
    {
      "cell_type": "code",
      "execution_count": null,
      "metadata": {
        "id": "4qqWilUP7R5g",
        "outputId": "1af820f3-0b2e-43c7-bf5e-d4fcb31475a6"
      },
      "outputs": [
        {
          "name": "stdout",
          "output_type": "stream",
          "text": [
            "Ten program porównuje dwie liczby\n",
            "Podaj pierwszą z dwóch liczb:\n",
            "Podaj drugą z dwóch liczb:\n",
            "Liczba  w stosunku do  jest:\n",
            "taka sama\n"
          ]
        }
      ],
      "source": [
        "print(\"Ten program porównuje dwie liczby\")\n",
        "x = input(\"Podaj pierwszą z dwóch liczb:\")                                 \n",
        "y = input(\"Podaj drugą z dwóch liczb:\")                                    \n",
        "print(\"Liczba\",x,\"w stosunku do\",y,\"jest:\",)\n",
        "if x==y:\n",
        "    print(\"taka sama\")\n",
        "elif x>y:\n",
        "    print(\"większa\")\n",
        "else:\n",
        "    print(\"mniejsza\")"
      ]
    },
    {
      "cell_type": "markdown",
      "metadata": {
        "id": "Ryu2k9nV7R5i"
      },
      "source": [
        "# Operatory logiczne\n",
        "Operatory logiczne, takie jak: <b>and</b> i <b>or</b> umożliwiają budowanie złożonych wyrażeń logicznych, na przykład:"
      ]
    },
    {
      "cell_type": "markdown",
      "metadata": {
        "id": "-AAHRiME7R5j"
      },
      "source": [
        "# Zad. 1\n",
        "\n",
        "Napisz program, który sprawdzi, czy podane przez użytkownika koła mają niepuste przecięcie. Użytkownik programu podaje współrzędne środka oraz promień każdego koła.\n"
      ]
    },
    {
      "cell_type": "code",
      "execution_count": null,
      "metadata": {
        "collapsed": true,
        "id": "X4UKM2m_7R5k"
      },
      "outputs": [],
      "source": [
        ""
      ]
    },
    {
      "cell_type": "markdown",
      "metadata": {
        "id": "AR9Sk_ke7R5l"
      },
      "source": [
        "# Operator ,,in''\n",
        "Operator <b>in</b> może być używany w celu sprawdzenia, czy określony ,,obiekt'' istnieje w obrębie iterowalnego kontenera obiektów, np. listy:"
      ]
    },
    {
      "cell_type": "code",
      "execution_count": null,
      "metadata": {
        "collapsed": true,
        "id": "4RAvBtlS7R5l"
      },
      "outputs": [],
      "source": [
        "if name in [\"John\", \"Rick\"]:\n",
        "    print(\"Your name is either John or Rick.\")"
      ]
    },
    {
      "cell_type": "markdown",
      "metadata": {
        "id": "MYKU6s3o7R5m"
      },
      "source": [
        "Instrukcje warunkowe możemy zagnieżdżać, np.:"
      ]
    },
    {
      "cell_type": "markdown",
      "metadata": {
        "id": "i12njC587R5n"
      },
      "source": [
        "# 2. Pętle\n",
        "W Pythonie istnieją dwa typy pętli: <b>for<b> i <b>while<b>."
      ]
    },
    {
      "cell_type": "markdown",
      "metadata": {
        "id": "XIezXFSs7R5o"
      },
      "source": [
        "# 2.1 Pętle iterowane po elementach sekwencji\n",
        "\n",
        "Typowa pętla po liczbach:"
      ]
    },
    {
      "cell_type": "code",
      "execution_count": null,
      "metadata": {
        "id": "-ssZZJlr7R5o",
        "outputId": "3ad955c0-077b-4793-f6bc-7ac086068dc5"
      },
      "outputs": [
        {
          "name": "stdout",
          "output_type": "stream",
          "text": [
            "3\n",
            "4\n",
            "5\n",
            "6\n",
            "7\n",
            "8\n",
            "9\n"
          ]
        }
      ],
      "source": [
        "for x in range(3,10):\n",
        "      print(x)"
      ]
    },
    {
      "cell_type": "markdown",
      "metadata": {
        "id": "DRHSm7-C7R5p"
      },
      "source": [
        "Funkcja <b>range</b> tworzy \"listę\" wartości całkowitych: \n",
        "\n",
        "- od zera do podanej wartości (jeżeli podamy 1 argument) \n",
        "- od - do (jeżeli podamy 2 argumenty)\n",
        "- możemy podać też trzeci parametr określający przyrost (normalnie +1).\n"
      ]
    },
    {
      "cell_type": "code",
      "execution_count": null,
      "metadata": {
        "id": "VE_mQqhw7R5p",
        "outputId": "1630160a-4431-4b31-ef4c-aab3c6bdae0c"
      },
      "outputs": [
        {
          "name": "stdout",
          "output_type": "stream",
          "text": [
            "range(0, 10)\n",
            "range(3, 10)\n",
            "range(1, 10, 2)\n",
            "range(4, 0, -1)\n"
          ]
        }
      ],
      "source": [
        "print(range(10))\n",
        "print(range(3, 10))\n",
        "print(range(1,10,2))\n",
        "print(range(4,0,-1))"
      ]
    },
    {
      "cell_type": "markdown",
      "metadata": {
        "id": "TIDQj1P-7R5r"
      },
      "source": [
        "Pętla <b>for</b> może też iterować inne typy danych, np napisy, listy:"
      ]
    },
    {
      "cell_type": "code",
      "execution_count": null,
      "metadata": {
        "id": "Lb_jgUzL7R5r",
        "outputId": "6737875d-49e6-4356-9cfa-56f9a58449dc"
      },
      "outputs": [
        {
          "name": "stdout",
          "output_type": "stream",
          "text": [
            "Zdrabniamy literki\n",
            "2 3 5 7 \n",
            "apple orange peach "
          ]
        }
      ],
      "source": [
        "bar = \"Zdrabniamy literki\"\n",
        "for i in bar:\n",
        "    print(i, end =\"\")\n",
        "print()\n",
        "\n",
        "x = [2, 3, 5, 7]\n",
        "for i in x:\n",
        "    print(i, end =\" \") \n",
        "print()\n",
        "\n",
        "for e in ['apple', 'orange', 'peach']:\n",
        "    print(e, end =\" \")"
      ]
    },
    {
      "cell_type": "markdown",
      "metadata": {
        "id": "VhgpGDGL7R5s"
      },
      "source": [
        "W takiej pętli nie mamy dostępu do indeksu elementu w liście, ale możemy taki uzyskać, odpowiednio mapując kolekcję za pomocą <b>enumerate</b> (generator):"
      ]
    },
    {
      "cell_type": "code",
      "execution_count": null,
      "metadata": {
        "id": "ao_38FBJ7R5t",
        "outputId": "67ba2e62-44b0-4259-a7a1-360738c00ec9"
      },
      "outputs": [
        {
          "name": "stdout",
          "output_type": "stream",
          "text": [
            "[(0, 'apple'), (1, 'orange'), (2, 'peach')] \n",
            "\n",
            "0 apple\n",
            "1 orange\n",
            "2 peach\n"
          ]
        }
      ],
      "source": [
        "print(list(enumerate(['apple', 'orange', 'peach'])), \"\\n\")\n",
        "\n",
        "for i, x in enumerate(['apple', 'orange', 'peach']):\n",
        "    print(i, x)"
      ]
    },
    {
      "cell_type": "markdown",
      "metadata": {
        "id": "6arGqdfH7R5v"
      },
      "source": [
        "# 2.2 Pętla while\n",
        "\n",
        "Pętla **while** powtarza instrukcje znajdujące się w jej wnętrzu tak długo, dopóki podany warunek logiczny jest spełniony. \n",
        "\n",
        "Na przykład:"
      ]
    },
    {
      "cell_type": "code",
      "execution_count": null,
      "metadata": {
        "id": "4F3xRfSq7R5w",
        "outputId": "0cac2710-0376-4e48-e5c0-733380d433a2"
      },
      "outputs": [
        {
          "name": "stdout",
          "output_type": "stream",
          "text": [
            "[1, 2, 3, 4, 5]\n",
            "[1, 2, 3, 4]\n",
            "[1, 2, 3]\n",
            "[1, 2]\n",
            "[1]\n",
            "[]\n"
          ]
        }
      ],
      "source": [
        "x=[1,2,3,4,5,6]\n",
        "while x:\n",
        "    x=x[:len(x)-1] # funkcja len() zwraca długość listy (liczbę elementów)\n",
        "    print(x)"
      ]
    },
    {
      "cell_type": "code",
      "execution_count": null,
      "metadata": {
        "id": "KNwRXEjs7R5x",
        "outputId": "4395fff9-c4f2-4f52-c2ad-da4494d0217c"
      },
      "outputs": [
        {
          "name": "stdout",
          "output_type": "stream",
          "text": [
            "Jestem w while.\n",
            "Jestem w while.\n",
            "Jestem w while.\n",
            "Jestem w while.\n",
            "Jestem w while.\n"
          ]
        }
      ],
      "source": [
        "licznik = 10\n",
        "\n",
        "while licznik < 15:\n",
        "    licznik += 1\n",
        "    print(\"Jestem w while.\")"
      ]
    },
    {
      "cell_type": "markdown",
      "metadata": {
        "id": "337w-W8o7R5x"
      },
      "source": [
        "\n",
        "# Zad. 2\n",
        "Napisz program, który będzie wczytywał kolejne słowa i je wypisywał aż do wczytania słowa \"stop\" po którym program się zatrzyma.\n"
      ]
    },
    {
      "cell_type": "code",
      "execution_count": null,
      "metadata": {
        "id": "kI11ATk07R5y"
      },
      "outputs": [],
      "source": [
        ""
      ]
    },
    {
      "cell_type": "markdown",
      "metadata": {
        "id": "SDZzVz8s7R5y"
      },
      "source": [
        "# Zad. 3\n",
        "\n",
        "Napisz program tworzący tablicę n na m elementową w kształcie tablicy szachowej. Np. dla\n",
        "<br />\n",
        "<tt>\n",
        "n = 5<br />\n",
        "m = 5\n",
        "</tt>\n",
        "\n",
        "otrzymujemy\n",
        "\n",
        "<br />\n",
        "<tt>\n",
        "10101<br />\n",
        "01010<br />\n",
        "10101<br />\n",
        "01010<br />\n",
        "10101<br />\n",
        "</tt>"
      ]
    },
    {
      "cell_type": "code",
      "execution_count": null,
      "metadata": {
        "id": "tUeFNthD7R5y"
      },
      "outputs": [],
      "source": [
        ""
      ]
    },
    {
      "cell_type": "markdown",
      "metadata": {
        "id": "UQKSHsBo7R5z"
      },
      "source": [
        "# 3. Formatowanie liczb\n",
        "\n",
        "Celem pętli często jest wyświetlenie kolumny liczb. \n",
        "\n",
        "Aby liczby wyświetlane były w należyty sposób i w pożądanym miejscu używamy operatora formatowania **%** w połączeniu z ciągiem formatującym. \n",
        "\n",
        "Ciąg formatujący składa się ze znaku **%**, po którym następują \n",
        "\n",
        "* opcje formatowania, \n",
        "* ilość znaków przeznaczonych do wyświetlenia \n",
        "* oraz typ danej do wyświetlenia \n",
        "(przy czym tylko trzeci element – tj. typ danych jest wymagany).\n",
        "\n",
        "Typ danej sygnalizujemy pojedynczą literą. I tak:\n",
        "* litera s oznacza napis (konwertuje każdy typ danych na tekst), np.:"
      ]
    },
    {
      "cell_type": "code",
      "execution_count": null,
      "metadata": {
        "id": "fOmWO1QH7R50",
        "outputId": "58aa78b8-6bcb-43c6-9ea5-d0f1db470dbc"
      },
      "outputs": [
        {
          "name": "stdout",
          "output_type": "stream",
          "text": [
            "10\n",
            "[0, 1, 2, 3, 4, 5]\n",
            "txt\n",
            "      test\n",
            "test      \n",
            "xylop\n"
          ]
        }
      ],
      "source": [
        "# stary sposób\n",
        "\n",
        "print(\"%s\" % 10)\n",
        "print(\"%s\" % list(range(6)))\n",
        "print(\"%s\" % \"txt\")\n",
        "print('%10s' % 'test')\n",
        "print('%-10s' % 'test')\n",
        "print('%.5s' % 'xylophone')"
      ]
    },
    {
      "cell_type": "markdown",
      "metadata": {
        "id": "9m23_8qv7R51"
      },
      "source": [
        "* litera **d** oznacza dziesiętną liczbę całkowitą (konwertuje kompatybilny typ danych na liczbę całkowitą), np.:"
      ]
    },
    {
      "cell_type": "code",
      "execution_count": null,
      "metadata": {
        "id": "eMKz3Lng7R52",
        "outputId": "6c4ca03f-99fd-4774-e3f5-e670fe5913a0"
      },
      "outputs": [
        {
          "name": "stdout",
          "output_type": "stream",
          "text": [
            "255\n",
            "2\n",
            "255\n",
            "2\n"
          ]
        }
      ],
      "source": [
        "print(\"%d\" % 0xff)\n",
        "print(\"%d\" % 2)\n",
        "print('{:d}'.format(0xff))\n",
        "print('{:d}'.format(2))"
      ]
    },
    {
      "cell_type": "markdown",
      "metadata": {
        "id": "JC44TVQw7R53"
      },
      "source": [
        "* litera **f** oznacza liczbę zmiennopozycyjną w postaci ułamka dziesiętnego, np.:"
      ]
    },
    {
      "cell_type": "code",
      "execution_count": null,
      "metadata": {
        "id": "nZZHIam47R53",
        "outputId": "441449ff-76e9-445a-ef0c-b9c1dd4d6114"
      },
      "outputs": [
        {
          "name": "stdout",
          "output_type": "stream",
          "text": [
            "123.000000\n",
            "1.230000\n",
            "123.000000\n",
            "1.230000\n"
          ]
        }
      ],
      "source": [
        "print(\"%f\" % 123)\n",
        "print(\"%f\" % 1.23)\n",
        "\n",
        "print('{:f}'.format(123))\n",
        "print('{:f}'.format(1.23))"
      ]
    },
    {
      "cell_type": "markdown",
      "metadata": {
        "id": "7MjmlTjT7R54"
      },
      "source": [
        "# Zad. 4\n",
        "\n",
        "Napisać program rysujący \"miarkę\" o zadanej długości. Należy prawidłowo obsłużyć liczby składające się z kilku cyfr, np.:\n",
        "\n",
        "$$|....|....|....|....|....|....|....|....|$$\n",
        "$$0 \\quad \\ 1 \\quad \\ 2 \\quad \\ 3 \\quad \\ 4 \\quad \\ 5 \\quad \\ 6 \\quad \\ 7 \\quad \\ 8$$"
      ]
    },
    {
      "cell_type": "code",
      "execution_count": null,
      "metadata": {
        "id": "3giUV9J67R55"
      },
      "outputs": [],
      "source": [
        ""
      ]
    },
    {
      "cell_type": "markdown",
      "metadata": {
        "id": "iHuzTSCN7R55"
      },
      "source": [
        "# Funkcje\n",
        "\n",
        "Definicja funkcji musi zawierać:\n",
        "\n",
        "* nagłówek funkcji:\n",
        "  * nazwę funkcji, która pozwoli zidentyfikować funkcję w pozostałej części programu,\n",
        "  * listę argumentów\n",
        "* ciało funkcji, zawierające instrukcje, które zostaną wykonane w momencie wywołania (użycia) funkcji\n",
        "  * jeżeli funkcja ma zwracać jakiś rezultat, musi zawierać instrukcję ,,return''\n",
        "\n",
        "W języku Python składnia definicji funkcji jest następująca:"
      ]
    },
    {
      "cell_type": "code",
      "execution_count": null,
      "metadata": {
        "collapsed": true,
        "id": "PTSldG8N7R57"
      },
      "outputs": [],
      "source": [
        "def nazwa_funkcji (lista_parametrow):\n",
        "    instrukcje_do_wykonania"
      ]
    },
    {
      "cell_type": "markdown",
      "metadata": {
        "id": "O8fmQ6Fr7R58"
      },
      "source": [
        "Przykład funkcji:"
      ]
    },
    {
      "cell_type": "code",
      "execution_count": null,
      "metadata": {
        "id": "gvyNGKQw7R58",
        "outputId": "ba690e27-07f2-4e46-db51-db1f322396e2"
      },
      "outputs": [
        {
          "name": "stdout",
          "output_type": "stream",
          "text": [
            "To jest użycie funkcji\n",
            "tak\n"
          ]
        }
      ],
      "source": [
        "# Przykład 1\n",
        "def wypisz(lancuch):\n",
        "    print(lancuch)\n",
        "    \n",
        "wypisz(\"To jest użycie funkcji\")\n",
        "x = \"tak\"\n",
        "wypisz(x)"
      ]
    },
    {
      "cell_type": "code",
      "execution_count": null,
      "metadata": {
        "id": "qc0BxVeI7R59",
        "outputId": "a1af20eb-a0f0-4c1f-d85e-9e0ee72bc13a"
      },
      "outputs": [
        {
          "name": "stdout",
          "output_type": "stream",
          "text": [
            "12\n",
            "1\n"
          ]
        }
      ],
      "source": [
        "# Przykład 2 - zwraca wynik\n",
        "def suma(x, y):\n",
        "    return x+y\n",
        "\n",
        "print(suma(4,8))\n",
        "x = suma(2, -1)\n",
        "print(x)"
      ]
    },
    {
      "cell_type": "markdown",
      "metadata": {
        "id": "_Yp595RX7R59"
      },
      "source": [
        "## Wiele rezultatów\n",
        "Jeżeli chcemy aby funkcja zwracała więcej niż jedną zmienną to stosujemy krotkę ,,(zmienna_1, ..., zmienna_n)'':"
      ]
    },
    {
      "cell_type": "code",
      "execution_count": null,
      "metadata": {
        "id": "zjsnbASy7R5-",
        "outputId": "79244468-844f-40d0-dc7a-ff42af46b263"
      },
      "outputs": [
        {
          "name": "stdout",
          "output_type": "stream",
          "text": [
            "(6, -2)\n",
            "(6, -2)\n"
          ]
        }
      ],
      "source": [
        "def f1(a,b):\n",
        "    return a+b,a-b\n",
        "\n",
        "def f2(a,b):\n",
        "    return (a+b,a-b)\n",
        "\n",
        "print(f1(2, 4))\n",
        "print(f2(2, 4))"
      ]
    },
    {
      "cell_type": "markdown",
      "metadata": {
        "id": "0yaZVI-W7R5_"
      },
      "source": [
        "# Zad. 5\n",
        "\n",
        "Napisz funkcje, która zwraca:\n",
        "\n",
        "* sumę,\n",
        "* różnicę,\n",
        "* iloczyn elementów listy.\n"
      ]
    },
    {
      "cell_type": "code",
      "execution_count": null,
      "metadata": {
        "collapsed": true,
        "id": "mUfJtKCS7R5_"
      },
      "outputs": [],
      "source": [
        ""
      ]
    },
    {
      "cell_type": "markdown",
      "metadata": {
        "id": "fuwPcHh_7R6A"
      },
      "source": [
        "# Typy sekwencyjne\n",
        "\n",
        "Sekwencyjne typy danych służą do przechowywaniu wielu wartości w pojedynczej zmiennej (w innych językach nazywane tablicami), w odróżnieniu od typów prostych, takich jak np. int, które w pojedynczej zmiennej mogą zachować tylko jedną wartość. Do typów sekwencyjnych należą: napisy (łańcuchy znaków), listy, krotki."
      ]
    },
    {
      "cell_type": "markdown",
      "metadata": {
        "id": "skNWCaQL7R6A"
      },
      "source": [
        "# 1. Napisy/łańcuchy\n",
        "Do tej pory poznaliśmy już jeden typ sekwencyjny, mianowicie typ łańcuchowy (łańcuchy znaków). Wartości napisów podajemy w cudzysłowach lub apostrofach:"
      ]
    },
    {
      "cell_type": "code",
      "execution_count": null,
      "metadata": {
        "id": "HABIXhbr7R6B",
        "outputId": "3c937b03-d00d-4da5-98f5-80645338d2ae"
      },
      "outputs": [
        {
          "name": "stdout",
          "output_type": "stream",
          "text": [
            "T\n",
            "o\n",
            "j\n",
            "s\n",
            "i\n",
            "p\n"
          ]
        }
      ],
      "source": [
        "x = \"To jest napis\"\n",
        "print(x[0])\n",
        "print(x[1])\n",
        "print(x[3])\n",
        "\n",
        "print(x[-1])\n",
        "print(x[-2])\n",
        "print(x[-3])"
      ]
    },
    {
      "cell_type": "code",
      "execution_count": null,
      "metadata": {
        "id": "J8WdEE1X7R6C",
        "outputId": "8117dc4c-95c0-4831-d09e-e8d7f359cffc"
      },
      "outputs": [
        {
          "name": "stdout",
          "output_type": "stream",
          "text": [
            "13\n"
          ]
        }
      ],
      "source": [
        "x = \"To jest napis\"\n",
        "print(len(x))"
      ]
    },
    {
      "cell_type": "markdown",
      "metadata": {
        "id": "LhzpOtUr7R6C"
      },
      "source": [
        "# 2. Listy\n",
        "Do zapamiętywania sekwencji danych nie będącymi znakami (np. liczby) służy typ sekwencyjny - **lista**. Elementy list mogą być dowolnego typu, to znaczy mogą zawierać zarówno liczby jak i napisy."
      ]
    },
    {
      "cell_type": "code",
      "execution_count": null,
      "metadata": {
        "id": "kosPbE4O7R6D",
        "outputId": "1f975d90-b8e9-4041-eaba-6a1d9eebdf30"
      },
      "outputs": [
        {
          "name": "stdout",
          "output_type": "stream",
          "text": [
            "[1, 2, 3]\n",
            "[1, 'tak', 5]\n"
          ]
        }
      ],
      "source": [
        "x = [1, 2, 3]\n",
        "y = [1, 'tak', 5]\n",
        "\n",
        "print(x)\n",
        "print(y)"
      ]
    },
    {
      "cell_type": "code",
      "execution_count": null,
      "metadata": {
        "id": "T7dhE7SX7R6E",
        "outputId": "075abff7-ffbc-48bb-e3ef-92e8eeb845e8"
      },
      "outputs": [
        {
          "name": "stdout",
          "output_type": "stream",
          "text": [
            "True\n",
            "False\n",
            "True\n"
          ]
        }
      ],
      "source": [
        "x = [1, 2, 3, 4]\n",
        "\n",
        "print(2 in x)\n",
        "print(3 not in x)\n",
        "print(5 not in x)"
      ]
    },
    {
      "cell_type": "code",
      "execution_count": null,
      "metadata": {
        "id": "nr2mdGW-7R6F",
        "outputId": "15af477f-d790-4424-e247-8a9accada73a"
      },
      "outputs": [
        {
          "name": "stdout",
          "output_type": "stream",
          "text": [
            "[range(0, 5), [8, -7, -1]]\n",
            "range(0, 5)\n",
            "[8, -7, -1]\n",
            "-7\n"
          ]
        }
      ],
      "source": [
        "x = [range(5), [8, -7, -1]]\n",
        "\n",
        "print(x)\n",
        "print(x[0])\n",
        "print(x[1])\n",
        "print(x[1][1])"
      ]
    },
    {
      "cell_type": "markdown",
      "metadata": {
        "id": "-YLK_Ut77R6F"
      },
      "source": [
        "# Zad. 6\n",
        "\n",
        "Napisać program zamieniający napis na napis „rozstrzelony”, czyli wstawiający spacje przed napisem, pomiędzy literami i po napisie. Przykład: **'Python' → ' P y t h o n '**. "
      ]
    },
    {
      "cell_type": "code",
      "execution_count": null,
      "metadata": {
        "id": "VgezrJDN7R6G"
      },
      "outputs": [],
      "source": [
        ""
      ]
    },
    {
      "cell_type": "markdown",
      "metadata": {
        "id": "fQVIcT6M7R6G"
      },
      "source": [
        "# Zad. 7\n",
        "Napisz funkcję **reverse(napis)**, która z napisu będącego jej argumentem tworzy odwrócony napis. Przykładowo, wywołanie reverse(\"hello\") powinno zwrócić napis \"olleh\". "
      ]
    },
    {
      "cell_type": "code",
      "execution_count": null,
      "metadata": {
        "id": "nx8q1sCN7R6G"
      },
      "outputs": [],
      "source": [
        ""
      ]
    },
    {
      "cell_type": "markdown",
      "metadata": {
        "id": "OD_E_YOE7R6H"
      },
      "source": [
        "## Moduły i pakiety\n",
        "Moduł to plik w Pythonie zawierający definicję klas, funkcji, stałych i zmiennych. Definicje zawarte w module mogą być zaimportowane do innych modułów lub do modułu głównego. Wewnątrz modułu jego nazwa dostępna jest jako wartość zmiennej globalnej **<tt>\\__name__</tt>**."
      ]
    },
    {
      "cell_type": "markdown",
      "metadata": {
        "id": "Ju7ZlmEs7R6H"
      },
      "source": [
        "## Wybrane pakiety, moduły:\n",
        "\n",
        "* random - moduł ten zawiera funkcje obsługujące generowanie liczb pseudolosowych:"
      ]
    },
    {
      "cell_type": "code",
      "execution_count": null,
      "metadata": {
        "id": "KyurBill7R6I",
        "outputId": "48bac870-14aa-4e6d-b5da-05289b1ffd92"
      },
      "outputs": [
        {
          "name": "stdout",
          "output_type": "stream",
          "text": [
            "3\n",
            "6\n",
            "10\n"
          ]
        }
      ],
      "source": [
        "import random\n",
        "\n",
        "random.seed() # inicjalizacja generatora liczb pseudolosowych\n",
        "\n",
        "# losowanie liczb całkowitych z zakresu od..do.\n",
        "print(random.randint(1,10))\n",
        "print(random.randint(1,10))\n",
        "print(random.randint(1,10))"
      ]
    },
    {
      "cell_type": "markdown",
      "metadata": {
        "id": "Ey2yPODP7R6I"
      },
      "source": [
        "* **math** - moduł ten zawiera definicje najczęściej używanych funkcji matematycznych:"
      ]
    },
    {
      "cell_type": "code",
      "execution_count": null,
      "metadata": {
        "id": "zs-mm8ve7R6I",
        "outputId": "1e0c5cdc-1f1d-49bc-84ee-3a19af14d4dd"
      },
      "outputs": [
        {
          "name": "stdout",
          "output_type": "stream",
          "text": [
            "5\n",
            "4\n",
            "3.0\n",
            "(0.5, 2.0)\n",
            "7.38905609893065\n",
            "1.0\n",
            "3.0\n",
            "1.5\n",
            "0.0\n",
            "0.5403023058681398\n"
          ]
        }
      ],
      "source": [
        "from math import *\n",
        "\n",
        "print(ceil(4.7)) # zwraca sufit liczby rzeczywistej\n",
        "print(floor(4.7)) # zwraca podłogę liczby rzeczywistej\n",
        "print(fabs(-3)) # zwraca wartość absolutną liczby rzeczywistej\n",
        "print(modf(2.5)) # zwraca krotkę zawierającą część ułamkową i całkowitą liczby rzeczywistej\n",
        "print(exp(2)) # zwraca e do potęgi x\n",
        "print(log(e)) # zwraca logarytm naturalny\n",
        "print(log(8, 2)) # zwraca logarytm o podstawie 2 (drugi parametr)\n",
        "print(sqrt(2.25)) # zwraca pierwiastek kwadratowy\n",
        "print(acos(1))\n",
        "print(cos(1))"
      ]
    },
    {
      "cell_type": "markdown",
      "metadata": {
        "id": "SIVRYS2c7R6J"
      },
      "source": [
        "\n",
        "# Zad. 8\n",
        "\n",
        "Wyestymować wartość liczby $\\pi$ metodą Monte Carlo.\n",
        "\n",
        "Pole kwadratu to $4r^2$, a pole koła wynosi $\\pi r^2$. W takim razie stosunek:\n",
        "$$\n",
        "\\frac{P_{kola}}{P_{kwadratu}} = \\frac{\\pi r^2}{4 r^2} = \\frac{\\pi}{4}.\n",
        "$$\n",
        "W konsekwencji: \n",
        "$$\n",
        "\\pi = 4 \\frac{P_{kola}}{P_{kwadratu}}.\n",
        "$$\n",
        "\n",
        "Jeżeli będziemy losować punkty o współrzędnych od $-2r$ do $2r$, to stosunek liczby punktów zawierających się w kole o środku w punkcie $(0,0)$ i promieniu $r$ do wszystkich wylosowanych punktów, będzie dążył w nieskończoności (z pewnym prawdopodobieństwem) do stosunku tego pola koła do koła kwadratu o boku $2r$.\n",
        "\n",
        "Cała metoda sprowadza się więc do tego, by losować punkty i sprawdzać, czy mieszczą się w kole. "
      ]
    },
    {
      "cell_type": "code",
      "execution_count": null,
      "metadata": {
        "id": "I5zu27zA7R6V"
      },
      "outputs": [],
      "source": [
        ""
      ]
    }
  ],
  "metadata": {
    "kernelspec": {
      "display_name": "Python 3",
      "language": "python",
      "name": "python3"
    },
    "language_info": {
      "codemirror_mode": {
        "name": "ipython",
        "version": 3
      },
      "file_extension": ".py",
      "mimetype": "text/x-python",
      "name": "python",
      "nbconvert_exporter": "python",
      "pygments_lexer": "ipython3",
      "version": "3.6.0"
    },
    "colab": {
      "name": "Z01_python_introduction.ipynb",
      "provenance": []
    }
  },
  "nbformat": 4,
  "nbformat_minor": 0
}